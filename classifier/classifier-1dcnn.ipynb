{
 "cells": [
  {
   "cell_type": "code",
   "execution_count": null,
   "id": "f234c578",
   "metadata": {},
   "outputs": [],
   "source": [
    "import tensorflow as tf\n",
    "\n",
    "from utils import *"
   ]
  },
  {
   "cell_type": "markdown",
   "id": "837a72f6",
   "metadata": {},
   "source": [
    "## Load Data"
   ]
  },
  {
   "cell_type": "code",
   "execution_count": null,
   "id": "f76ff03c",
   "metadata": {},
   "outputs": [],
   "source": [
    "X_train, y_train = load_data(train_path)\n",
    "\n",
    "n_timesteps, n_features, n_outputs = X_train.shape[1], X_train.shape[2], y_train.shape[1]"
   ]
  },
  {
   "cell_type": "markdown",
   "id": "756347a9",
   "metadata": {},
   "source": [
    "## Classification Models"
   ]
  },
  {
   "cell_type": "markdown",
   "id": "4e0672c4",
   "metadata": {},
   "source": [
    "### 1D-CNN"
   ]
  },
  {
   "cell_type": "code",
   "execution_count": null,
   "id": "419bafa2",
   "metadata": {},
   "outputs": [],
   "source": [
    "input_ = tf.keras.layers.Input(shape=(n_timesteps, n_features))\n",
    "norm = tf.keras.layers.experimental.preprocessing.Normalization()\n",
    "norm.adapt(X_train)\n",
    "# 1st convolutional block\n",
    "conv1 = tf.keras.layers.Conv1D(filters=128, activation='relu', kernel_size=8, padding='same')(norm(input_))\n",
    "conv1 = tf.keras.layers.BatchNormalization()(conv1)\n",
    "# 2nd convolutional block\n",
    "conv2 = tf.keras.layers.Conv1D(filters=256, activation='relu', kernel_size=5, padding='same')(conv1)\n",
    "conv2 = tf.keras.layers.BatchNormalization()(conv2)\n",
    "# 3rd convolutional block\n",
    "conv3 = tf.keras.layers.Conv1D(filters=128, activation='relu', kernel_size=3, padding='same')(conv2)\n",
    "conv3 = tf.keras.layers.BatchNormalization()(conv3)\n",
    "# global average pooling\n",
    "gap = tf.keras.layers.GlobalAveragePooling1D()(conv3)\n",
    "# fully connected layer\n",
    "output = tf.keras.layers.Dense(n_outputs, activation='softmax')(gap)\n",
    "\n",
    "cnn1d_model = tf.keras.Model(inputs=[input_], outputs=[output], name='tmp_model')\n",
    "\n",
    "cnn1d_model.compile(loss='categorical_crossentropy', optimizer='adam', metrics=['categorical_accuracy'])"
   ]
  },
  {
   "cell_type": "code",
   "execution_count": null,
   "id": "935da938",
   "metadata": {},
   "outputs": [],
   "source": [
    "history_1dcnn = cnn1d_model.fit(X_train, y_train, batch_size=64, epochs=200)"
   ]
  },
  {
   "cell_type": "code",
   "execution_count": null,
   "id": "9984ee0b",
   "metadata": {},
   "outputs": [],
   "source": [
    "# model_name = 'model_'\n",
    "# cnn1d_model.save(model_path + model_name)"
   ]
  },
  {
   "cell_type": "markdown",
   "id": "5c7071a6",
   "metadata": {},
   "source": [
    "### Training acc and loss"
   ]
  },
  {
   "cell_type": "code",
   "execution_count": null,
   "id": "43382b0c",
   "metadata": {},
   "outputs": [],
   "source": [
    "plt.figure(figsize=(18, 10))\n",
    "plt.plot(history_1dcnn.history['categorical_accuracy'])\n",
    "plt.xlabel('epoch')\n",
    "plt.legend(['accuracy'], loc='upper left')\n",
    "plt.show()"
   ]
  },
  {
   "cell_type": "code",
   "execution_count": null,
   "id": "399fbd8f",
   "metadata": {},
   "outputs": [],
   "source": [
    "plt.figure(figsize=(18, 10))\n",
    "plt.plot(history_1dcnn.history['loss'], color='orange')\n",
    "plt.xlabel('epoch')\n",
    "plt.legend(['loss'], loc='upper right')\n",
    "plt.show()"
   ]
  },
  {
   "cell_type": "markdown",
   "id": "f75b72c8",
   "metadata": {},
   "source": [
    "### Confusion Matrix (1D-CNN)"
   ]
  },
  {
   "cell_type": "code",
   "execution_count": null,
   "id": "5eb882b4",
   "metadata": {},
   "outputs": [],
   "source": [
    "y_pred, y_true = get_predicted_values(cnn1d_model, test_path)\n",
    "plot(y_pred, y_true)"
   ]
  }
 ],
 "metadata": {
  "environment": {
   "name": "tf2-gpu.2-3.m69",
   "type": "gcloud",
   "uri": "gcr.io/deeplearning-platform-release/tf2-gpu.2-3:m69"
  },
  "kernelspec": {
   "display_name": "Python 3 (ipykernel)",
   "language": "python",
   "name": "python3"
  },
  "language_info": {
   "codemirror_mode": {
    "name": "ipython",
    "version": 3
   },
   "file_extension": ".py",
   "mimetype": "text/x-python",
   "name": "python",
   "nbconvert_exporter": "python",
   "pygments_lexer": "ipython3",
   "version": "3.8.11"
  }
 },
 "nbformat": 4,
 "nbformat_minor": 5
}
